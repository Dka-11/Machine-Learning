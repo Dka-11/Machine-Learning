{
 "cells": [
  {
   "cell_type": "markdown",
   "metadata": {},
   "source": [
    "# KUIS 2 Pembelajaran Mesin\n",
    "\n",
    "    Nama    : Adika Ahmad hanif Nazhir  \n",
    "    Kelas   : TI - 3B  \n",
    "    NIM     : 2041720171\n",
    "\n",
    "## Tentang dataset\n",
    "\n",
    "Pada sebuah lembaga kemanusiaan berbasis teknologi informasi, dibentuk beberapa tim kemanusiaan yang bertugas untuk terjun ke masyarakat memberikan bantuan dalam bentuk aplikasi komputer atau layanan pelatihan IT.  Kegiatan tersebut dilaksanakan setiap tahun dengan ketentuan anggota organisasi tersebut dapat bergabung ke beberapa tim sebagai ketua atau anggota. Terdapat pula anggota yang sudah tidak aktif di organisasi tersebut (terhapus di database mereka —> label N/A).  Organisasi tersebut juga melakukan rekrutmen volunteer, namun tidak semua tim menggunakan bantuan volunteer. Hasil kegiatan dari setiap tim dapat diwujudkan ke dalam sebuah pengakuan hak cipta atau publikasi karya ilmiah atau publikasi berita di media massa.\n",
    "\n",
    "## Ketentuan\n",
    "1. Pengerjaan secara individu alias setiap mahasiswa!\n",
    "2. Terdapat data dengan nilai #N/A, pertimbangkan cara terbaik untuk mengatasi nilai tersebut.\n",
    "3. Tidak boleh ada duplikasi pekerjaan antar mahasiswa\n",
    "4. Berikan penjelasan untuk setiap tahapan. Jangan hanya kode!\n",
    "\n",
    "## Soal\n",
    "1. Lakukan pemilahan data training dan testing yang sesuai dan proporsional dari data tersebut! (10 poin)\n",
    "2. Tentukan data validasi! (10 poin)\n",
    "3. Tentukan secara tepat kolom yang menjadi \"label\" (20 poin)\n",
    "4. Terapkan dua jenis metode klasifikasi dan lakukan perbandingan akurasi  dengan wajib melibatkan variabel keterlibatan volunteer sampai variabel luaran-luaran yang dihasilkan! (20 poin)\n",
    "5. Lakukan tunning hyperparameter berdasarkan hasil klasifikasi pada nomor 3 menggunakan metode Grid Search dan Random Search! Simpulkan parameter apa yang paling baik digunakan berdasarkan metode klasifikasi yang dipilih, dan berapa akurasinya. (40 poin)"
   ]
  },
  {
   "cell_type": "code",
   "execution_count": 87,
   "metadata": {},
   "outputs": [
    {
     "data": {
      "text/html": [
       "<div>\n",
       "<style scoped>\n",
       "    .dataframe tbody tr th:only-of-type {\n",
       "        vertical-align: middle;\n",
       "    }\n",
       "\n",
       "    .dataframe tbody tr th {\n",
       "        vertical-align: top;\n",
       "    }\n",
       "\n",
       "    .dataframe thead th {\n",
       "        text-align: right;\n",
       "    }\n",
       "</style>\n",
       "<table border=\"1\" class=\"dataframe\">\n",
       "  <thead>\n",
       "    <tr style=\"text-align: right;\">\n",
       "      <th></th>\n",
       "      <th>id_ketua</th>\n",
       "      <th>id_anggota1</th>\n",
       "      <th>id_anggota2</th>\n",
       "      <th>id_anggota3</th>\n",
       "      <th>id_anggota4</th>\n",
       "      <th>id_anggota5</th>\n",
       "      <th>keterlibatan_vltr</th>\n",
       "      <th>jml_vltr_terlibat</th>\n",
       "      <th>tahun</th>\n",
       "      <th>skema</th>\n",
       "      <th>luaran_hki</th>\n",
       "      <th>jenis_luaran_hki</th>\n",
       "      <th>potensi_hki</th>\n",
       "      <th>luaran_lain</th>\n",
       "      <th>jenis_luaran_lain</th>\n",
       "      <th>status_luaran_lain</th>\n",
       "    </tr>\n",
       "  </thead>\n",
       "  <tbody>\n",
       "    <tr>\n",
       "      <th>0</th>\n",
       "      <td>7206.0</td>\n",
       "      <td>7214.0</td>\n",
       "      <td>6211.0</td>\n",
       "      <td>8602.0</td>\n",
       "      <td>7801.0</td>\n",
       "      <td>NaN</td>\n",
       "      <td>TIDAK</td>\n",
       "      <td>0</td>\n",
       "      <td>2019</td>\n",
       "      <td>REGULER</td>\n",
       "      <td>TIDAK ADA</td>\n",
       "      <td>TIDAK ADA</td>\n",
       "      <td>TIDAK</td>\n",
       "      <td>TIDAK ADA</td>\n",
       "      <td>TIDAK ADA</td>\n",
       "      <td>TIDAK ADA</td>\n",
       "    </tr>\n",
       "    <tr>\n",
       "      <th>1</th>\n",
       "      <td>7214.0</td>\n",
       "      <td>7109.0</td>\n",
       "      <td>8402.0</td>\n",
       "      <td>7903.0</td>\n",
       "      <td>9202.0</td>\n",
       "      <td>NaN</td>\n",
       "      <td>TIDAK</td>\n",
       "      <td>0</td>\n",
       "      <td>2019</td>\n",
       "      <td>REGULER</td>\n",
       "      <td>TIDAK ADA</td>\n",
       "      <td>TIDAK ADA</td>\n",
       "      <td>TIDAK</td>\n",
       "      <td>TIDAK ADA</td>\n",
       "      <td>TIDAK ADA</td>\n",
       "      <td>TIDAK ADA</td>\n",
       "    </tr>\n",
       "    <tr>\n",
       "      <th>2</th>\n",
       "      <td>5911.0</td>\n",
       "      <td>8201.0</td>\n",
       "      <td>8701.0</td>\n",
       "      <td>9101.0</td>\n",
       "      <td>9003.0</td>\n",
       "      <td>NaN</td>\n",
       "      <td>TIDAK</td>\n",
       "      <td>0</td>\n",
       "      <td>2019</td>\n",
       "      <td>REGULER</td>\n",
       "      <td>TIDAK ADA</td>\n",
       "      <td>TIDAK ADA</td>\n",
       "      <td>TIDAK</td>\n",
       "      <td>TIDAK ADA</td>\n",
       "      <td>TIDAK ADA</td>\n",
       "      <td>TIDAK ADA</td>\n",
       "    </tr>\n",
       "    <tr>\n",
       "      <th>3</th>\n",
       "      <td>8402.0</td>\n",
       "      <td>7702.0</td>\n",
       "      <td>8602.0</td>\n",
       "      <td>8903.0</td>\n",
       "      <td>8903.0</td>\n",
       "      <td>NaN</td>\n",
       "      <td>TIDAK</td>\n",
       "      <td>0</td>\n",
       "      <td>2019</td>\n",
       "      <td>REGULER</td>\n",
       "      <td>TIDAK ADA</td>\n",
       "      <td>TIDAK ADA</td>\n",
       "      <td>TIDAK</td>\n",
       "      <td>TIDAK ADA</td>\n",
       "      <td>TIDAK ADA</td>\n",
       "      <td>TIDAK ADA</td>\n",
       "    </tr>\n",
       "    <tr>\n",
       "      <th>4</th>\n",
       "      <td>8201.0</td>\n",
       "      <td>8305.0</td>\n",
       "      <td>5911.0</td>\n",
       "      <td>5903.0</td>\n",
       "      <td>8402.0</td>\n",
       "      <td>NaN</td>\n",
       "      <td>TIDAK</td>\n",
       "      <td>0</td>\n",
       "      <td>2019</td>\n",
       "      <td>REGULER</td>\n",
       "      <td>TIDAK ADA</td>\n",
       "      <td>TIDAK ADA</td>\n",
       "      <td>TIDAK</td>\n",
       "      <td>TIDAK ADA</td>\n",
       "      <td>TIDAK ADA</td>\n",
       "      <td>TIDAK ADA</td>\n",
       "    </tr>\n",
       "    <tr>\n",
       "      <th>...</th>\n",
       "      <td>...</td>\n",
       "      <td>...</td>\n",
       "      <td>...</td>\n",
       "      <td>...</td>\n",
       "      <td>...</td>\n",
       "      <td>...</td>\n",
       "      <td>...</td>\n",
       "      <td>...</td>\n",
       "      <td>...</td>\n",
       "      <td>...</td>\n",
       "      <td>...</td>\n",
       "      <td>...</td>\n",
       "      <td>...</td>\n",
       "      <td>...</td>\n",
       "      <td>...</td>\n",
       "      <td>...</td>\n",
       "    </tr>\n",
       "    <tr>\n",
       "      <th>80</th>\n",
       "      <td>8803.0</td>\n",
       "      <td>8804.0</td>\n",
       "      <td>9102.0</td>\n",
       "      <td>8005.0</td>\n",
       "      <td>9303.0</td>\n",
       "      <td>NaN</td>\n",
       "      <td>YA</td>\n",
       "      <td>3</td>\n",
       "      <td>2022</td>\n",
       "      <td>REGULER</td>\n",
       "      <td>TIDAK ADA</td>\n",
       "      <td>TIDAK ADA</td>\n",
       "      <td>TIDAK</td>\n",
       "      <td>TIDAK ADA</td>\n",
       "      <td>TIDAK ADA</td>\n",
       "      <td>TIDAK ADA</td>\n",
       "    </tr>\n",
       "    <tr>\n",
       "      <th>81</th>\n",
       "      <td>6211.0</td>\n",
       "      <td>8901.0</td>\n",
       "      <td>9003.0</td>\n",
       "      <td>9303.0</td>\n",
       "      <td>9007.0</td>\n",
       "      <td>NaN</td>\n",
       "      <td>YA</td>\n",
       "      <td>3</td>\n",
       "      <td>2022</td>\n",
       "      <td>REGULER</td>\n",
       "      <td>TIDAK ADA</td>\n",
       "      <td>TIDAK ADA</td>\n",
       "      <td>TIDAK</td>\n",
       "      <td>TIDAK ADA</td>\n",
       "      <td>TIDAK ADA</td>\n",
       "      <td>TIDAK ADA</td>\n",
       "    </tr>\n",
       "    <tr>\n",
       "      <th>82</th>\n",
       "      <td>8601.0</td>\n",
       "      <td>8903.0</td>\n",
       "      <td>8703.0</td>\n",
       "      <td>NaN</td>\n",
       "      <td>NaN</td>\n",
       "      <td>NaN</td>\n",
       "      <td>YA</td>\n",
       "      <td>3</td>\n",
       "      <td>2022</td>\n",
       "      <td>REGULER</td>\n",
       "      <td>TIDAK ADA</td>\n",
       "      <td>TIDAK ADA</td>\n",
       "      <td>TIDAK</td>\n",
       "      <td>TIDAK ADA</td>\n",
       "      <td>TIDAK ADA</td>\n",
       "      <td>TIDAK ADA</td>\n",
       "    </tr>\n",
       "    <tr>\n",
       "      <th>83</th>\n",
       "      <td>8703.0</td>\n",
       "      <td>8601.0</td>\n",
       "      <td>9202.0</td>\n",
       "      <td>9102.0</td>\n",
       "      <td>6204.0</td>\n",
       "      <td>NaN</td>\n",
       "      <td>YA</td>\n",
       "      <td>3</td>\n",
       "      <td>2022</td>\n",
       "      <td>REGULER</td>\n",
       "      <td>TIDAK ADA</td>\n",
       "      <td>TIDAK ADA</td>\n",
       "      <td>TIDAK</td>\n",
       "      <td>TIDAK ADA</td>\n",
       "      <td>TIDAK ADA</td>\n",
       "      <td>TIDAK ADA</td>\n",
       "    </tr>\n",
       "    <tr>\n",
       "      <th>84</th>\n",
       "      <td>8102.0</td>\n",
       "      <td>7109.0</td>\n",
       "      <td>5903.0</td>\n",
       "      <td>7206.0</td>\n",
       "      <td>8903.0</td>\n",
       "      <td>NaN</td>\n",
       "      <td>TIDAK</td>\n",
       "      <td>0</td>\n",
       "      <td>2022</td>\n",
       "      <td>REGULER</td>\n",
       "      <td>TIDAK ADA</td>\n",
       "      <td>TIDAK ADA</td>\n",
       "      <td>TIDAK</td>\n",
       "      <td>TIDAK ADA</td>\n",
       "      <td>TIDAK ADA</td>\n",
       "      <td>TIDAK ADA</td>\n",
       "    </tr>\n",
       "  </tbody>\n",
       "</table>\n",
       "<p>85 rows × 16 columns</p>\n",
       "</div>"
      ],
      "text/plain": [
       "    id_ketua  id_anggota1  id_anggota2  id_anggota3  id_anggota4  id_anggota5  \\\n",
       "0     7206.0       7214.0       6211.0       8602.0       7801.0          NaN   \n",
       "1     7214.0       7109.0       8402.0       7903.0       9202.0          NaN   \n",
       "2     5911.0       8201.0       8701.0       9101.0       9003.0          NaN   \n",
       "3     8402.0       7702.0       8602.0       8903.0       8903.0          NaN   \n",
       "4     8201.0       8305.0       5911.0       5903.0       8402.0          NaN   \n",
       "..       ...          ...          ...          ...          ...          ...   \n",
       "80    8803.0       8804.0       9102.0       8005.0       9303.0          NaN   \n",
       "81    6211.0       8901.0       9003.0       9303.0       9007.0          NaN   \n",
       "82    8601.0       8903.0       8703.0          NaN          NaN          NaN   \n",
       "83    8703.0       8601.0       9202.0       9102.0       6204.0          NaN   \n",
       "84    8102.0       7109.0       5903.0       7206.0       8903.0          NaN   \n",
       "\n",
       "   keterlibatan_vltr  jml_vltr_terlibat  tahun    skema luaran_hki  \\\n",
       "0              TIDAK                  0   2019  REGULER  TIDAK ADA   \n",
       "1              TIDAK                  0   2019  REGULER  TIDAK ADA   \n",
       "2              TIDAK                  0   2019  REGULER  TIDAK ADA   \n",
       "3              TIDAK                  0   2019  REGULER  TIDAK ADA   \n",
       "4              TIDAK                  0   2019  REGULER  TIDAK ADA   \n",
       "..               ...                ...    ...      ...        ...   \n",
       "80                YA                  3   2022  REGULER  TIDAK ADA   \n",
       "81                YA                  3   2022  REGULER  TIDAK ADA   \n",
       "82                YA                  3   2022  REGULER  TIDAK ADA   \n",
       "83                YA                  3   2022  REGULER  TIDAK ADA   \n",
       "84             TIDAK                  0   2022  REGULER  TIDAK ADA   \n",
       "\n",
       "   jenis_luaran_hki potensi_hki luaran_lain jenis_luaran_lain  \\\n",
       "0         TIDAK ADA       TIDAK   TIDAK ADA         TIDAK ADA   \n",
       "1         TIDAK ADA       TIDAK   TIDAK ADA         TIDAK ADA   \n",
       "2         TIDAK ADA       TIDAK   TIDAK ADA         TIDAK ADA   \n",
       "3         TIDAK ADA       TIDAK   TIDAK ADA         TIDAK ADA   \n",
       "4         TIDAK ADA       TIDAK   TIDAK ADA         TIDAK ADA   \n",
       "..              ...         ...         ...               ...   \n",
       "80        TIDAK ADA       TIDAK   TIDAK ADA         TIDAK ADA   \n",
       "81        TIDAK ADA       TIDAK   TIDAK ADA         TIDAK ADA   \n",
       "82        TIDAK ADA       TIDAK   TIDAK ADA         TIDAK ADA   \n",
       "83        TIDAK ADA       TIDAK   TIDAK ADA         TIDAK ADA   \n",
       "84        TIDAK ADA       TIDAK   TIDAK ADA         TIDAK ADA   \n",
       "\n",
       "   status_luaran_lain  \n",
       "0           TIDAK ADA  \n",
       "1           TIDAK ADA  \n",
       "2           TIDAK ADA  \n",
       "3           TIDAK ADA  \n",
       "4           TIDAK ADA  \n",
       "..                ...  \n",
       "80          TIDAK ADA  \n",
       "81          TIDAK ADA  \n",
       "82          TIDAK ADA  \n",
       "83          TIDAK ADA  \n",
       "84          TIDAK ADA  \n",
       "\n",
       "[85 rows x 16 columns]"
      ]
     },
     "execution_count": 87,
     "metadata": {},
     "output_type": "execute_result"
    }
   ],
   "source": [
    "import pandas as pd\n",
    "\n",
    "df = pd.read_excel('data/dataset_quiz.xlsx')\n",
    "\n",
    "df"
   ]
  },
  {
   "cell_type": "markdown",
   "metadata": {},
   "source": [
    "# Cleaning Data\n",
    "Turn data into good data."
   ]
  },
  {
   "cell_type": "code",
   "execution_count": 88,
   "metadata": {},
   "outputs": [
    {
     "data": {
      "text/plain": [
       "id_ketua               3\n",
       "id_anggota1            5\n",
       "id_anggota2            4\n",
       "id_anggota3            3\n",
       "id_anggota4           13\n",
       "id_anggota5           84\n",
       "keterlibatan_vltr      0\n",
       "jml_vltr_terlibat      0\n",
       "tahun                  0\n",
       "skema                  0\n",
       "luaran_hki             0\n",
       "jenis_luaran_hki       0\n",
       "potensi_hki            0\n",
       "luaran_lain            0\n",
       "jenis_luaran_lain      0\n",
       "status_luaran_lain     0\n",
       "dtype: int64"
      ]
     },
     "execution_count": 88,
     "metadata": {},
     "output_type": "execute_result"
    }
   ],
   "source": [
    "# Mengecek nilai yang null\n",
    "\n",
    "df.isna().sum()"
   ]
  },
  {
   "cell_type": "markdown",
   "metadata": {},
   "source": [
    "### Mengganti Nilai yang hilang / null "
   ]
  },
  {
   "cell_type": "code",
   "execution_count": 89,
   "metadata": {},
   "outputs": [],
   "source": [
    "# Mengisi nilai data \"id_ketua,id_anggota1,id_anggota2,id_anggota3\" dengan menggunakan modus dari tiap\" data tersebut\n",
    "\n",
    "df['id_ketua']  = df['id_ketua'].fillna(df['id_ketua'].mode()[0])\n",
    "df['id_anggota1']  = df['id_anggota1'].fillna(df['id_anggota1'].mode()[0])\n",
    "df['id_anggota2']  = df['id_anggota2'].fillna(df['id_anggota2'].mode()[0])\n",
    "df['id_anggota3']  = df['id_anggota3'].fillna(df['id_anggota3'].mode()[0])\n",
    "\n",
    "# Mengisi nilai data \"id_anggota4\" dengan menggunakan mean / rata\" dari data tersebut.\n",
    "\n",
    "df['id_anggota4']  = df['id_anggota4'].fillna(df['id_anggota4'].mean())\n",
    "\n",
    "# Menghapus nilai data \"id_anggota5\", karena data tersebut hanya memiliki 1 baris nilai ,\n",
    "# sehingga menurut saya jika dihapus tidak akan berefek kepada datanya.\n",
    "\n",
    "df.drop('id_anggota5', axis=1, inplace=True) "
   ]
  },
  {
   "cell_type": "code",
   "execution_count": 90,
   "metadata": {},
   "outputs": [
    {
     "data": {
      "text/plain": [
       "id_ketua              0\n",
       "id_anggota1           0\n",
       "id_anggota2           0\n",
       "id_anggota3           0\n",
       "id_anggota4           0\n",
       "keterlibatan_vltr     0\n",
       "jml_vltr_terlibat     0\n",
       "tahun                 0\n",
       "skema                 0\n",
       "luaran_hki            0\n",
       "jenis_luaran_hki      0\n",
       "potensi_hki           0\n",
       "luaran_lain           0\n",
       "jenis_luaran_lain     0\n",
       "status_luaran_lain    0\n",
       "dtype: int64"
      ]
     },
     "execution_count": 90,
     "metadata": {},
     "output_type": "execute_result"
    }
   ],
   "source": [
    "# Mengecek apakah masih ada nilai null setelah mengganti nilai tersebut\n",
    "\n",
    "df.isna().sum()"
   ]
  },
  {
   "cell_type": "markdown",
   "metadata": {},
   "source": [
    "### Menggunakan LabelEncoder untuk beberapa kolom"
   ]
  },
  {
   "cell_type": "code",
   "execution_count": 91,
   "metadata": {},
   "outputs": [],
   "source": [
    "from sklearn.preprocessing import LabelEncoder\n",
    "\n",
    "le = LabelEncoder()\n",
    "\n",
    "cols = ['keterlibatan_vltr', 'skema', 'luaran_hki', 'jenis_luaran_hki', \n",
    "        'potensi_hki', 'luaran_lain', 'jenis_luaran_lain', 'status_luaran_lain']\n",
    "\n",
    "# Encode labels of multiple columns at once\n",
    "\n",
    "df[cols] = df[cols].apply(le.fit_transform)"
   ]
  },
  {
   "cell_type": "code",
   "execution_count": 92,
   "metadata": {},
   "outputs": [
    {
     "data": {
      "text/html": [
       "<div>\n",
       "<style scoped>\n",
       "    .dataframe tbody tr th:only-of-type {\n",
       "        vertical-align: middle;\n",
       "    }\n",
       "\n",
       "    .dataframe tbody tr th {\n",
       "        vertical-align: top;\n",
       "    }\n",
       "\n",
       "    .dataframe thead th {\n",
       "        text-align: right;\n",
       "    }\n",
       "</style>\n",
       "<table border=\"1\" class=\"dataframe\">\n",
       "  <thead>\n",
       "    <tr style=\"text-align: right;\">\n",
       "      <th></th>\n",
       "      <th>id_ketua</th>\n",
       "      <th>id_anggota1</th>\n",
       "      <th>id_anggota2</th>\n",
       "      <th>id_anggota3</th>\n",
       "      <th>id_anggota4</th>\n",
       "      <th>keterlibatan_vltr</th>\n",
       "      <th>jml_vltr_terlibat</th>\n",
       "      <th>tahun</th>\n",
       "      <th>skema</th>\n",
       "      <th>luaran_hki</th>\n",
       "      <th>jenis_luaran_hki</th>\n",
       "      <th>potensi_hki</th>\n",
       "      <th>luaran_lain</th>\n",
       "      <th>jenis_luaran_lain</th>\n",
       "      <th>status_luaran_lain</th>\n",
       "    </tr>\n",
       "  </thead>\n",
       "  <tbody>\n",
       "    <tr>\n",
       "      <th>0</th>\n",
       "      <td>7206.0</td>\n",
       "      <td>7214.0</td>\n",
       "      <td>6211.0</td>\n",
       "      <td>8602.0</td>\n",
       "      <td>7801.0</td>\n",
       "      <td>0</td>\n",
       "      <td>0</td>\n",
       "      <td>2019</td>\n",
       "      <td>1</td>\n",
       "      <td>1</td>\n",
       "      <td>1</td>\n",
       "      <td>2</td>\n",
       "      <td>0</td>\n",
       "      <td>3</td>\n",
       "      <td>1</td>\n",
       "    </tr>\n",
       "    <tr>\n",
       "      <th>1</th>\n",
       "      <td>7214.0</td>\n",
       "      <td>7109.0</td>\n",
       "      <td>8402.0</td>\n",
       "      <td>7903.0</td>\n",
       "      <td>9202.0</td>\n",
       "      <td>0</td>\n",
       "      <td>0</td>\n",
       "      <td>2019</td>\n",
       "      <td>1</td>\n",
       "      <td>1</td>\n",
       "      <td>1</td>\n",
       "      <td>2</td>\n",
       "      <td>0</td>\n",
       "      <td>3</td>\n",
       "      <td>1</td>\n",
       "    </tr>\n",
       "    <tr>\n",
       "      <th>2</th>\n",
       "      <td>5911.0</td>\n",
       "      <td>8201.0</td>\n",
       "      <td>8701.0</td>\n",
       "      <td>9101.0</td>\n",
       "      <td>9003.0</td>\n",
       "      <td>0</td>\n",
       "      <td>0</td>\n",
       "      <td>2019</td>\n",
       "      <td>1</td>\n",
       "      <td>1</td>\n",
       "      <td>1</td>\n",
       "      <td>2</td>\n",
       "      <td>0</td>\n",
       "      <td>3</td>\n",
       "      <td>1</td>\n",
       "    </tr>\n",
       "    <tr>\n",
       "      <th>3</th>\n",
       "      <td>8402.0</td>\n",
       "      <td>7702.0</td>\n",
       "      <td>8602.0</td>\n",
       "      <td>8903.0</td>\n",
       "      <td>8903.0</td>\n",
       "      <td>0</td>\n",
       "      <td>0</td>\n",
       "      <td>2019</td>\n",
       "      <td>1</td>\n",
       "      <td>1</td>\n",
       "      <td>1</td>\n",
       "      <td>2</td>\n",
       "      <td>0</td>\n",
       "      <td>3</td>\n",
       "      <td>1</td>\n",
       "    </tr>\n",
       "    <tr>\n",
       "      <th>4</th>\n",
       "      <td>8201.0</td>\n",
       "      <td>8305.0</td>\n",
       "      <td>5911.0</td>\n",
       "      <td>5903.0</td>\n",
       "      <td>8402.0</td>\n",
       "      <td>0</td>\n",
       "      <td>0</td>\n",
       "      <td>2019</td>\n",
       "      <td>1</td>\n",
       "      <td>1</td>\n",
       "      <td>1</td>\n",
       "      <td>2</td>\n",
       "      <td>0</td>\n",
       "      <td>3</td>\n",
       "      <td>1</td>\n",
       "    </tr>\n",
       "    <tr>\n",
       "      <th>5</th>\n",
       "      <td>8008.0</td>\n",
       "      <td>7607.0</td>\n",
       "      <td>7903.0</td>\n",
       "      <td>7702.0</td>\n",
       "      <td>8905.0</td>\n",
       "      <td>0</td>\n",
       "      <td>0</td>\n",
       "      <td>2019</td>\n",
       "      <td>1</td>\n",
       "      <td>1</td>\n",
       "      <td>1</td>\n",
       "      <td>2</td>\n",
       "      <td>0</td>\n",
       "      <td>3</td>\n",
       "      <td>1</td>\n",
       "    </tr>\n",
       "    <tr>\n",
       "      <th>6</th>\n",
       "      <td>8402.0</td>\n",
       "      <td>8803.0</td>\n",
       "      <td>9102.0</td>\n",
       "      <td>8804.0</td>\n",
       "      <td>8005.0</td>\n",
       "      <td>0</td>\n",
       "      <td>0</td>\n",
       "      <td>2019</td>\n",
       "      <td>1</td>\n",
       "      <td>1</td>\n",
       "      <td>1</td>\n",
       "      <td>2</td>\n",
       "      <td>0</td>\n",
       "      <td>3</td>\n",
       "      <td>1</td>\n",
       "    </tr>\n",
       "    <tr>\n",
       "      <th>7</th>\n",
       "      <td>8101.0</td>\n",
       "      <td>7702.0</td>\n",
       "      <td>7308.0</td>\n",
       "      <td>8602.0</td>\n",
       "      <td>9003.0</td>\n",
       "      <td>0</td>\n",
       "      <td>0</td>\n",
       "      <td>2019</td>\n",
       "      <td>1</td>\n",
       "      <td>1</td>\n",
       "      <td>1</td>\n",
       "      <td>2</td>\n",
       "      <td>0</td>\n",
       "      <td>3</td>\n",
       "      <td>1</td>\n",
       "    </tr>\n",
       "    <tr>\n",
       "      <th>8</th>\n",
       "      <td>8402.0</td>\n",
       "      <td>8805.0</td>\n",
       "      <td>8807.0</td>\n",
       "      <td>8803.0</td>\n",
       "      <td>9003.0</td>\n",
       "      <td>0</td>\n",
       "      <td>0</td>\n",
       "      <td>2019</td>\n",
       "      <td>1</td>\n",
       "      <td>1</td>\n",
       "      <td>1</td>\n",
       "      <td>2</td>\n",
       "      <td>0</td>\n",
       "      <td>3</td>\n",
       "      <td>1</td>\n",
       "    </tr>\n",
       "    <tr>\n",
       "      <th>9</th>\n",
       "      <td>8805.0</td>\n",
       "      <td>7206.0</td>\n",
       "      <td>7903.0</td>\n",
       "      <td>7702.0</td>\n",
       "      <td>9002.0</td>\n",
       "      <td>0</td>\n",
       "      <td>0</td>\n",
       "      <td>2019</td>\n",
       "      <td>1</td>\n",
       "      <td>1</td>\n",
       "      <td>1</td>\n",
       "      <td>2</td>\n",
       "      <td>0</td>\n",
       "      <td>3</td>\n",
       "      <td>1</td>\n",
       "    </tr>\n",
       "  </tbody>\n",
       "</table>\n",
       "</div>"
      ],
      "text/plain": [
       "   id_ketua  id_anggota1  id_anggota2  id_anggota3  id_anggota4  \\\n",
       "0    7206.0       7214.0       6211.0       8602.0       7801.0   \n",
       "1    7214.0       7109.0       8402.0       7903.0       9202.0   \n",
       "2    5911.0       8201.0       8701.0       9101.0       9003.0   \n",
       "3    8402.0       7702.0       8602.0       8903.0       8903.0   \n",
       "4    8201.0       8305.0       5911.0       5903.0       8402.0   \n",
       "5    8008.0       7607.0       7903.0       7702.0       8905.0   \n",
       "6    8402.0       8803.0       9102.0       8804.0       8005.0   \n",
       "7    8101.0       7702.0       7308.0       8602.0       9003.0   \n",
       "8    8402.0       8805.0       8807.0       8803.0       9003.0   \n",
       "9    8805.0       7206.0       7903.0       7702.0       9002.0   \n",
       "\n",
       "   keterlibatan_vltr  jml_vltr_terlibat  tahun  skema  luaran_hki  \\\n",
       "0                  0                  0   2019      1           1   \n",
       "1                  0                  0   2019      1           1   \n",
       "2                  0                  0   2019      1           1   \n",
       "3                  0                  0   2019      1           1   \n",
       "4                  0                  0   2019      1           1   \n",
       "5                  0                  0   2019      1           1   \n",
       "6                  0                  0   2019      1           1   \n",
       "7                  0                  0   2019      1           1   \n",
       "8                  0                  0   2019      1           1   \n",
       "9                  0                  0   2019      1           1   \n",
       "\n",
       "   jenis_luaran_hki  potensi_hki  luaran_lain  jenis_luaran_lain  \\\n",
       "0                 1            2            0                  3   \n",
       "1                 1            2            0                  3   \n",
       "2                 1            2            0                  3   \n",
       "3                 1            2            0                  3   \n",
       "4                 1            2            0                  3   \n",
       "5                 1            2            0                  3   \n",
       "6                 1            2            0                  3   \n",
       "7                 1            2            0                  3   \n",
       "8                 1            2            0                  3   \n",
       "9                 1            2            0                  3   \n",
       "\n",
       "   status_luaran_lain  \n",
       "0                   1  \n",
       "1                   1  \n",
       "2                   1  \n",
       "3                   1  \n",
       "4                   1  \n",
       "5                   1  \n",
       "6                   1  \n",
       "7                   1  \n",
       "8                   1  \n",
       "9                   1  "
      ]
     },
     "execution_count": 92,
     "metadata": {},
     "output_type": "execute_result"
    }
   ],
   "source": [
    "df.head(10)"
   ]
  },
  {
   "cell_type": "markdown",
   "metadata": {},
   "source": [
    "### Seleksi fitur"
   ]
  },
  {
   "cell_type": "code",
   "execution_count": 93,
   "metadata": {},
   "outputs": [
    {
     "data": {
      "text/plain": [
       "(85, 9)"
      ]
     },
     "execution_count": 93,
     "metadata": {},
     "output_type": "execute_result"
    }
   ],
   "source": [
    "x = df.iloc[:,6:] #Fitur\n",
    "y = df['keterlibatan_vltr'] #Label\n",
    "x.shape"
   ]
  },
  {
   "cell_type": "markdown",
   "metadata": {},
   "source": [
    "## Melakukan pemilahan data training dan testing yang sesuai dan proporsional."
   ]
  },
  {
   "cell_type": "code",
   "execution_count": 94,
   "metadata": {},
   "outputs": [],
   "source": [
    "from sklearn.model_selection import train_test_split\n",
    "\n",
    "# Split Data Main \n",
    "x_main, x_test, y_main, y_test = train_test_split(x, y, test_size=0.2, random_state=7)\n",
    "\n",
    "# Split Data main menjadi data val dan data train\n",
    "x_val, x_train, y_val, y_train = train_test_split(x_main, y_main, test_size=0.5, random_state=5)"
   ]
  },
  {
   "cell_type": "markdown",
   "metadata": {},
   "source": [
    "## Validasi Data"
   ]
  },
  {
   "cell_type": "code",
   "execution_count": 95,
   "metadata": {},
   "outputs": [
    {
     "name": "stdout",
     "output_type": "stream",
     "text": [
      "Jumlah data asli: 85\n",
      "Jumlah data train: 68\n",
      "Jumlah data val: 8\n",
      "Jumlah data test: 9\n",
      "=========\n",
      "Jumlah label data Asli:\n",
      "0    45\n",
      "1    40\n",
      "Name: keterlibatan_vltr, dtype: int64\n",
      "Jumlah label data Main:\n",
      "0    38\n",
      "1    30\n",
      "Name: keterlibatan_vltr, dtype: int64\n",
      "Jumlah label data Val:\n",
      "1    5\n",
      "0    3\n",
      "Name: keterlibatan_vltr, dtype: int64\n",
      "Jumlah label data Train:\n",
      "1    5\n",
      "0    4\n",
      "Name: keterlibatan_vltr, dtype: int64\n"
     ]
    }
   ],
   "source": [
    "# Split data main dan dan lainnya\n",
    "# data lainnya, akan kita split lagi menjadi validasi dan train.\n",
    "df_main, df_test= train_test_split(df, test_size=0.2)\n",
    "\n",
    "# Split lagi antara validasi dan train\n",
    "df_val, df_train = train_test_split(df_test, test_size=0.5)\n",
    "\n",
    "# Cek masing-masing ukuran data\n",
    "\n",
    "print(f'Jumlah data asli: {df.shape[0]}')\n",
    "print(f'Jumlah data train: {df_main.shape[0]}')\n",
    "print(f'Jumlah data val: {df_val.shape[0]}')\n",
    "print(f'Jumlah data test: {df_train.shape[0]}')\n",
    "\n",
    "# Cek rasio 'keterlibatan_vltr\" label\n",
    "print('=========')\n",
    "print(f'Jumlah label data Asli:\\n{df.keterlibatan_vltr.value_counts()}')\n",
    "print(f'Jumlah label data Main:\\n{df_main.keterlibatan_vltr.value_counts()}')\n",
    "print(f'Jumlah label data Val:\\n{df_val.keterlibatan_vltr.value_counts()}')\n",
    "print(f'Jumlah label data Train:\\n{df_train.keterlibatan_vltr.value_counts()}')"
   ]
  },
  {
   "cell_type": "markdown",
   "metadata": {},
   "source": [
    "### K-Fold Cross Validation (Random)"
   ]
  },
  {
   "cell_type": "code",
   "execution_count": 96,
   "metadata": {},
   "outputs": [
    {
     "name": "stdout",
     "output_type": "stream",
     "text": [
      "Jumlah fold: 4\n",
      "Obyek KFold: KFold(n_splits=4, random_state=None, shuffle=False)\n",
      "--------------------------\n",
      "Jumlah data df_main: 68\n",
      "Index train: [17 18 19 20 21 22 23 24 25 26 27 28 29 30 31 32 33 34 35 36 37 38 39 40\n",
      " 41 42 43 44 45 46 47 48 49 50 51 52 53 54 55 56 57 58 59 60 61 62 63 64\n",
      " 65 66 67] | Index test: [ 0  1  2  3  4  5  6  7  8  9 10 11 12 13 14 15 16]\n",
      "Index train: [ 0  1  2  3  4  5  6  7  8  9 10 11 12 13 14 15 16 34 35 36 37 38 39 40\n",
      " 41 42 43 44 45 46 47 48 49 50 51 52 53 54 55 56 57 58 59 60 61 62 63 64\n",
      " 65 66 67] | Index test: [17 18 19 20 21 22 23 24 25 26 27 28 29 30 31 32 33]\n",
      "Index train: [ 0  1  2  3  4  5  6  7  8  9 10 11 12 13 14 15 16 17 18 19 20 21 22 23\n",
      " 24 25 26 27 28 29 30 31 32 33 51 52 53 54 55 56 57 58 59 60 61 62 63 64\n",
      " 65 66 67] | Index test: [34 35 36 37 38 39 40 41 42 43 44 45 46 47 48 49 50]\n",
      "Index train: [ 0  1  2  3  4  5  6  7  8  9 10 11 12 13 14 15 16 17 18 19 20 21 22 23\n",
      " 24 25 26 27 28 29 30 31 32 33 34 35 36 37 38 39 40 41 42 43 44 45 46 47\n",
      " 48 49 50] | Index test: [51 52 53 54 55 56 57 58 59 60 61 62 63 64 65 66 67]\n"
     ]
    }
   ],
   "source": [
    "# Implementasi k-fold cross validation (random) dengan training, validation, dan testing data\n",
    "from sklearn.model_selection import train_test_split, KFold\n",
    "\n",
    "# Split dulu antara data main dan testing dengan train_test_split\n",
    "df_main, df_test = train_test_split(df, test_size=0.2, random_state=0)\n",
    "\n",
    "# inisiasi obyek kfold\n",
    "kf = KFold(n_splits=4)\n",
    "print(f'Jumlah fold: {kf.get_n_splits()}')\n",
    "print(f'Obyek KFold: {kf}')\n",
    "print('--------------------------')\n",
    "\n",
    "# Lakukan splitting dengan KFold untuk data df_main\n",
    "# Dengan cara ini, kita masih memiliki data testing untuk keperluan pengujian model\n",
    "# namun tetap dapat melakukan evaluasi dengan menggunakan data validasi\n",
    "kf_split = kf.split(df_main)\n",
    "print(f'Jumlah data df_main: {df_main.shape[0]}')\n",
    "\n",
    "# cek index data tiap fold\n",
    "for main_index, test_index in kf_split:\n",
    "    print(f'Index train: {main_index} | Index test: {test_index}')"
   ]
  },
  {
   "cell_type": "markdown",
   "metadata": {},
   "source": [
    "## Kolom yang menjadi Label"
   ]
  },
  {
   "cell_type": "code",
   "execution_count": 97,
   "metadata": {},
   "outputs": [
    {
     "data": {
      "text/plain": [
       "0    0\n",
       "1    0\n",
       "2    0\n",
       "3    0\n",
       "4    0\n",
       "5    0\n",
       "6    0\n",
       "7    0\n",
       "8    0\n",
       "9    0\n",
       "Name: keterlibatan_vltr, dtype: int32"
      ]
     },
     "execution_count": 97,
     "metadata": {},
     "output_type": "execute_result"
    }
   ],
   "source": [
    "y = df['keterlibatan_vltr']\n",
    "y.head(10)"
   ]
  },
  {
   "cell_type": "markdown",
   "metadata": {},
   "source": [
    "## Menerapkan 2 jenis metode klasifikasi dengan wajib melibatkan variabel keterlibatan volunteer sampai variabel luaran-luaran"
   ]
  },
  {
   "cell_type": "code",
   "execution_count": 98,
   "metadata": {},
   "outputs": [],
   "source": [
    "from sklearn.tree import DecisionTreeClassifier\n",
    "from sklearn.metrics import accuracy_score\n",
    "from sklearn.ensemble import RandomForestClassifier"
   ]
  },
  {
   "cell_type": "markdown",
   "metadata": {},
   "source": [
    "### Klasifikasi Decision Tree"
   ]
  },
  {
   "cell_type": "code",
   "execution_count": 99,
   "metadata": {},
   "outputs": [
    {
     "name": "stdout",
     "output_type": "stream",
     "text": [
      "Test set accuracy: 0.94\n",
      "Test set accuracy: 0.9411764705882353\n"
     ]
    }
   ],
   "source": [
    "# Secara default, \n",
    "# ecisionTreeClassifier dari scikit-learn akan menggunakan nilai \"Gini\" untuk kriteria\n",
    "# Pada kasus ini menggunakan parameter default\n",
    "dt = DecisionTreeClassifier()\n",
    "\n",
    "# Sesuaikan dt ke set training\n",
    "dt.fit(x_main, y_main)\n",
    "\n",
    "# Memprediksi label set test\n",
    "y_pred_dt = dt.predict(x_test)\n",
    "\n",
    "#  menghitung set accuracy\n",
    "acc_dt = accuracy_score(y_test, y_pred_dt)\n",
    "print(\"Test set accuracy: {:.2f}\".format(acc_dt))\n",
    "print(f\"Test set accuracy: {acc_dt}\")"
   ]
  },
  {
   "cell_type": "markdown",
   "metadata": {},
   "source": [
    "### Klasifikasi RandomForest"
   ]
  },
  {
   "cell_type": "code",
   "execution_count": 100,
   "metadata": {},
   "outputs": [
    {
     "name": "stdout",
     "output_type": "stream",
     "text": [
      "Test set accuracy: 0.88\n",
      "Test set accuracy: 0.8823529411764706\n"
     ]
    }
   ],
   "source": [
    "# RF dapat  digunakan untuk Feature Selection\n",
    "# Pada kasus kali ini menggunakan estimator pada RandomForest\n",
    "\n",
    "rf = RandomForestClassifier(n_estimators=10, random_state=1)\n",
    "#n_estimators = jmlh pohon yang dibuat (split pohon), belum tentu pohon banyak persen lebih banyak\n",
    "#harus mencari grid search cv\n",
    "\n",
    "rf.fit(x_main, y_main)\n",
    "\n",
    "# Memprediksi label set test\n",
    "y_pred_rf = rf.predict(x_test)\n",
    "\n",
    "#  menghitung set accuracy\n",
    "acc_rf = accuracy_score(y_test, y_pred_rf)\n",
    "print(\"Test set accuracy: {:.2f}\".format(acc_rf))\n",
    "print(f\"Test set accuracy: {acc_rf}\")"
   ]
  },
  {
   "cell_type": "markdown",
   "metadata": {},
   "source": [
    "## Tunning Hyperparameter\n",
    "\n",
    "Metode : Grid Search dan Random Search"
   ]
  },
  {
   "cell_type": "code",
   "execution_count": 101,
   "metadata": {},
   "outputs": [],
   "source": [
    "from sklearn.model_selection import GridSearchCV\n",
    "from sklearn.model_selection import RandomizedSearchCV\n",
    "from sklearn.model_selection import RepeatedKFold"
   ]
  },
  {
   "cell_type": "markdown",
   "metadata": {},
   "source": [
    "### Repeated K-Fold Cross Validation"
   ]
  },
  {
   "cell_type": "code",
   "execution_count": 102,
   "metadata": {},
   "outputs": [],
   "source": [
    "# inisiasi repeated k-fold\n",
    "cv = RepeatedKFold(n_splits=4, n_repeats=3, random_state=42)\n",
    "# n_repeats digunakan untuk mendefinisikan berapa kali ulangan"
   ]
  },
  {
   "cell_type": "markdown",
   "metadata": {},
   "source": [
    "### Grid Search - DecisionTree"
   ]
  },
  {
   "cell_type": "code",
   "execution_count": 103,
   "metadata": {},
   "outputs": [
    {
     "name": "stdout",
     "output_type": "stream",
     "text": [
      "5.1 s ± 193 ms per loop (mean ± std. dev. of 7 runs, 1 loop each)\n",
      "Hasil evaluasi: 1.0\n",
      "Konfigurasi hyperparameter: {'criterion': 'gini', 'max_depth': 5, 'min_samples_leaf': 1, 'splitter': 'best'}\n"
     ]
    }
   ],
   "source": [
    "# Inisiasi Model\n",
    "dt_gridSearch = DecisionTreeClassifier()\n",
    "\n",
    "# Definisikan hyperparameter yang akan digunakan\n",
    "# sklearn menerima dalam bentuk dictionary\n",
    "# nama hyperparamater HARUS SESUAI dengan dokumentasi sklearn\n",
    "params_dt = {\n",
    "    'criterion': ['gini', 'entropy', 'log_loss'],\n",
    "    'splitter' : [\"best\", \"random\"],\n",
    "    'max_depth': list(range(5,11)),\n",
    "    'min_samples_leaf' : [1,2,3]\n",
    "}\n",
    "\n",
    "# inisiasi gridsearch berdasarkan nilai repeated k-fold dan hyperparameter\n",
    "grid_dt = GridSearchCV(dt_gridSearch, param_grid=params_dt, cv=cv, n_jobs=-1)\n",
    "\n",
    "%timeit grid_dt.fit(x, y)\n",
    "\n",
    "score_gs_dt = grid_dt.score(x,y)\n",
    "\n",
    "print(f'Hasil evaluasi: {score_gs_dt}')\n",
    "print(f'Konfigurasi hyperparameter: {grid_dt.best_params_}')"
   ]
  },
  {
   "cell_type": "markdown",
   "metadata": {},
   "source": [
    "### Grid Search - RandomForest"
   ]
  },
  {
   "cell_type": "code",
   "execution_count": 104,
   "metadata": {},
   "outputs": [
    {
     "name": "stdout",
     "output_type": "stream",
     "text": [
      "30.7 s ± 1.59 s per loop (mean ± std. dev. of 7 runs, 1 loop each)\n",
      "Hasil evaluasi: 0.9882352941176471\n",
      "Konfigurasi hyperparameter: {'bootstrap': True, 'max_depth': 3, 'max_features': 'sqrt', 'n_estimators': 100}\n"
     ]
    }
   ],
   "source": [
    "#Inisiasi Model\n",
    "rf_gridSearch = RandomForestClassifier()\n",
    "\n",
    "params_rf = {\n",
    "    'n_estimators': [1, 5, 10, 50, 100],\n",
    "    'max_depth':[3,5,10,None],  \n",
    "    'max_features':['sqrt', 'log2', None],\n",
    "    'bootstrap' : [True]\n",
    "}\n",
    "\n",
    "# inisiasi gridsearch berdasarkan nilai repeated k-fold dan hyperparameter\n",
    "grid_rf = GridSearchCV(rf_gridSearch, param_grid=params_rf, cv=cv, n_jobs=-1)\n",
    "\n",
    "%timeit grid_rf.fit(x, y)\n",
    "\n",
    "score_gs_rf = grid_rf.score(x,y)\n",
    "\n",
    "print(f'Hasil evaluasi: {score_gs_rf}')\n",
    "print(f'Konfigurasi hyperparameter: {grid_rf.best_params_}')"
   ]
  },
  {
   "cell_type": "markdown",
   "metadata": {},
   "source": [
    "### Random Search - DecisionTree"
   ]
  },
  {
   "cell_type": "code",
   "execution_count": 105,
   "metadata": {},
   "outputs": [
    {
     "name": "stdout",
     "output_type": "stream",
     "text": [
      "608 ms ± 26.8 ms per loop (mean ± std. dev. of 7 runs, 1 loop each)\n",
      "Hasil evaluasi: 1.0\n",
      "Konfigurasi hyperparameter: {'splitter': 'best', 'min_samples_leaf': 1, 'max_depth': 9, 'criterion': 'gini'}\n"
     ]
    }
   ],
   "source": [
    "# inisiasi model\n",
    "dt_randomSearch = DecisionTreeClassifier()\n",
    "\n",
    "# Definisikan hyperparameter yang akan digunakan\n",
    "# sklearn menerima dalam bentuk dictionary\n",
    "# nama hyperparamater HARUS SESUAI dengan dokumentasi sklearn\n",
    "params_dt = {\n",
    "    'criterion': ['gini', 'entropy', 'log_loss'],\n",
    "    'splitter' : [\"best\", \"random\"],\n",
    "    'max_depth': list(range(5,11)),\n",
    "    'min_samples_leaf' : [1,2,3]\n",
    "}\n",
    "\n",
    "# inisiasi randomizedsearch berdasarkan nilai repeated k-fold dan hyperparameter\n",
    "rs_dt = RandomizedSearchCV(dt_randomSearch, param_distributions=params_dt, cv=cv, n_jobs=-1)\n",
    "\n",
    "# Fit / latih berdasarkan RandomSearch\n",
    "# %timeit merupakan magic command didalam ipython notebook\n",
    "# yang dapat kita gunakan untuk menghitung waktu komputasi\n",
    "# cara ini cukup efektif untuk melakukan evaluasi suatu algoritma atau prosedur\n",
    "%timeit rs_dt.fit(x, y)\n",
    "\n",
    "# Evaluasi dengan score\n",
    "score_rs_dt = rs_dt.score(x,y)\n",
    "\n",
    "print(f'Hasil evaluasi: {score_rs_dt}')\n",
    "print(f'Konfigurasi hyperparameter: {rs_dt.best_params_}')"
   ]
  },
  {
   "cell_type": "markdown",
   "metadata": {},
   "source": [
    "## RandomSearch - RandomForest"
   ]
  },
  {
   "cell_type": "code",
   "execution_count": 106,
   "metadata": {},
   "outputs": [
    {
     "name": "stdout",
     "output_type": "stream",
     "text": [
      "5.15 s ± 1.07 s per loop (mean ± std. dev. of 7 runs, 1 loop each)\n",
      "Hasil evaluasi: 1.0\n",
      "Konfigurasi hyperparameter: {'n_estimators': 100, 'max_features': None, 'max_depth': 3, 'bootstrap': True}\n"
     ]
    }
   ],
   "source": [
    "#Inisiasi Model\n",
    "rf_randomSearch = RandomForestClassifier()\n",
    "\n",
    "params_rf = {\n",
    "    'n_estimators': [1, 5, 10, 50, 100],\n",
    "    'max_depth':[3,5,10,None],  \n",
    "    'max_features':['sqrt', 'log2', None],\n",
    "    'bootstrap' : [True]\n",
    "}\n",
    "\n",
    "# inisiasi gridsearch berdasarkan nilai repeated k-fold dan hyperparameter\n",
    "rs_rf = RandomizedSearchCV(rf_randomSearch, param_distributions=params_rf, cv=cv, n_jobs=-1)\n",
    "\n",
    "%timeit rs_rf.fit(x, y)\n",
    "\n",
    "score_rs_rf = rs_rf.score(x,y)\n",
    "\n",
    "print(f'Hasil evaluasi: {score_rs_rf}')\n",
    "print(f'Konfigurasi hyperparameter: {rs_rf.best_params_}')"
   ]
  },
  {
   "cell_type": "markdown",
   "metadata": {},
   "source": [
    "## Accuracy Score :  \n",
    "Hasil accuracy score sebelum dan setelah dilakukan tunning hyperparameter :\n",
    "\n",
    "- Decision Tree  \n",
    "0.9411764705882353 => 1.0 (Tunning Hyperparameter GridSearch)  \n",
    "0.9411764705882353 => 1.0 (Tunning Hyperparameter RandomSearch)  \n",
    "- RandomForest  \n",
    "0.8823529411764706 => 0.9882352941176471 (Tunning Hyperparameter GridSearch)  \n",
    "0.8823529411764706 => 1.0 (Tunning Hyperparameter RandomSearch)"
   ]
  }
 ],
 "metadata": {
  "kernelspec": {
   "display_name": "Python 3.8.8 ('base')",
   "language": "python",
   "name": "python3"
  },
  "language_info": {
   "codemirror_mode": {
    "name": "ipython",
    "version": 3
   },
   "file_extension": ".py",
   "mimetype": "text/x-python",
   "name": "python",
   "nbconvert_exporter": "python",
   "pygments_lexer": "ipython3",
   "version": "3.8.8"
  },
  "orig_nbformat": 4,
  "vscode": {
   "interpreter": {
    "hash": "73404ad3c88aa99e32f07b5d821528fcc4d5b5b51e6f7b564956be9b5bfc71fa"
   }
  }
 },
 "nbformat": 4,
 "nbformat_minor": 2
}
